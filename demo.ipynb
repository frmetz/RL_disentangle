{
 "cells": [
  {
   "cell_type": "markdown",
   "id": "df7b88ab",
   "metadata": {},
   "source": [
    "# Interactive Visualization of Attention Scores\n",
    "---"
   ]
  },
  {
   "cell_type": "code",
   "execution_count": null,
   "id": "e99f974e",
   "metadata": {},
   "outputs": [],
   "source": [
    "%load_ext autoreload\n",
    "%autoreload 2\n",
    "%matplotlib notebook"
   ]
  },
  {
   "cell_type": "code",
   "execution_count": null,
   "id": "0e1fb118",
   "metadata": {},
   "outputs": [],
   "source": [
    "import numpy as np\n",
    "import torch\n",
    "import matplotlib as mpl\n",
    "import matplotlib.pyplot as plt\n",
    "import ipywidgets as widgets\n",
    "from functools import partial\n",
    "from IPython.display import display\n",
    "\n",
    "from demo_helpers import (\n",
    "    SingleQubitRotationControls,\n",
    "    TwoQubitsRotationControls,\n",
    "    StepControls,\n",
    "    QuantumState,\n",
    "    InteractiveAttentionScores,\n",
    "    get_special_states,\n",
    "    apply_1q_rotation,\n",
    "    apply_2q_rotation\n",
    ")"
   ]
  },
  {
   "cell_type": "markdown",
   "id": "02cd511c",
   "metadata": {},
   "source": [
    "Global variables"
   ]
  },
  {
   "cell_type": "code",
   "execution_count": null,
   "id": "1115cbf4",
   "metadata": {},
   "outputs": [],
   "source": [
    "SEED = 4\n",
    "DEVICE = 'cpu'\n",
    "N_QUBITS = 4\n",
    "STEPS_LIMIT = 40\n",
    "AGENT_PATH = 'logs/4q_pGen_0.9_attnHeads_2_tLayers_2_ppoBatch_512_entReg_0.1_embed_128_mlp_256/agent.pt'"
   ]
  },
  {
   "cell_type": "markdown",
   "id": "450e16eb",
   "metadata": {},
   "source": [
    "Set seeds"
   ]
  },
  {
   "cell_type": "code",
   "execution_count": null,
   "id": "bef117f6",
   "metadata": {},
   "outputs": [],
   "source": [
    "np.random.seed(SEED)\n",
    "torch.manual_seed(SEED)\n",
    "torch.backends.cudnn.deterministic = True\n",
    "np.set_printoptions(5, suppress=True)\n",
    "torch.set_printoptions(5, sci_mode=False)"
   ]
  },
  {
   "cell_type": "markdown",
   "id": "c73bcb1d",
   "metadata": {},
   "source": [
    "Load agent"
   ]
  },
  {
   "cell_type": "code",
   "execution_count": null,
   "id": "b18b0a1c",
   "metadata": {},
   "outputs": [],
   "source": [
    "agent = torch.load(AGENT_PATH, map_location=torch.device(DEVICE))"
   ]
  },
  {
   "cell_type": "markdown",
   "id": "37d82930",
   "metadata": {},
   "source": [
    "Initialize state"
   ]
  },
  {
   "cell_type": "code",
   "execution_count": null,
   "id": "d4537383",
   "metadata": {},
   "outputs": [],
   "source": [
    "for k in get_special_states()[4]:\n",
    "    print(k)"
   ]
  },
  {
   "cell_type": "code",
   "execution_count": null,
   "id": "5be7aca9",
   "metadata": {},
   "outputs": [],
   "source": [
    "state = get_special_states()[4][\"|RRRR>\"]\n",
    "state"
   ]
  },
  {
   "cell_type": "code",
   "execution_count": null,
   "id": "b7ffb500",
   "metadata": {
    "scrolled": false
   },
   "outputs": [],
   "source": [
    "# Initialize Attention plot\n",
    "attn_scores = InteractiveAttentionScores(N_QUBITS, agent)\n",
    "n_layers, n_heads, _, _ = attn_scores.get_attention_scores(state).shape\n",
    "\n",
    "fig, axs = plt.subplots(\n",
    "    nrows=2,\n",
    "    ncols=4,\n",
    "    figsize=(15, 5),\n",
    "    tight_layout={\"pad\":2},\n",
    "    dpi=60\n",
    ")\n",
    "for ax in axs[1, :]:\n",
    "    ax.remove()\n",
    "\n",
    "attn_axs = axs[0, :]\n",
    "prob_ax = plt.subplot2grid(shape=(2, 4), loc=(1, 0), colspan=4, fig=fig)\n",
    "attn_scores.set_attn_axes(attn_axs)\n",
    "attn_scores.set_prob_ax(prob_ax)\n",
    "\n",
    "# Initialize controls\n",
    "qstate = QuantumState(state, handler=attn_scores.update)\n",
    "q1_rotate_func = partial(apply_1q_rotation, qstate)\n",
    "q2_rotate_func = partial(apply_2q_rotation, qstate)\n",
    "q1_rotation_controls = SingleQubitRotationControls(4, q1_rotate_func)\n",
    "q2_rotation_controls = TwoQubitsRotationControls(4, q2_rotate_func)\n",
    "step_controls = StepControls(agent, qstate, [q1_rotation_controls, q2_rotation_controls])\n",
    "\n",
    "# Display controls\n",
    "q1_rotation_controls.display()\n",
    "q2_rotation_controls.display()\n",
    "step_controls.display()\n",
    "qstate.display()"
   ]
  },
  {
   "cell_type": "code",
   "execution_count": null,
   "id": "6569042d",
   "metadata": {},
   "outputs": [],
   "source": []
  }
 ],
 "metadata": {
  "kernelspec": {
   "display_name": "Python 3 (ipykernel)",
   "language": "python",
   "name": "python3"
  },
  "language_info": {
   "codemirror_mode": {
    "name": "ipython",
    "version": 3
   },
   "file_extension": ".py",
   "mimetype": "text/x-python",
   "name": "python",
   "nbconvert_exporter": "python",
   "pygments_lexer": "ipython3",
   "version": "3.10.5"
  }
 },
 "nbformat": 4,
 "nbformat_minor": 5
}
