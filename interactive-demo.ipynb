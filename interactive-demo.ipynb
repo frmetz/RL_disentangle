{
 "cells": [
  {
   "cell_type": "markdown",
   "id": "df7b88ab",
   "metadata": {},
   "source": [
    "# Reinforcement Learning to Disentangle Multiqubit Quantum States from Partial Observations\n",
    "---\n",
    "## *Interactive Demos*\n"
   ]
  },
  {
   "cell_type": "code",
   "execution_count": null,
   "id": "0e1fb118",
   "metadata": {},
   "outputs": [],
   "source": [
    "%matplotlib widget\n",
    "\n",
    "import numpy as np\n",
    "from demo_impl import start_demo_4q, start_demo_5q"
   ]
  },
  {
   "cell_type": "markdown",
   "id": "91aec4e0-415b-4932-9b66-3891e3ab67ce",
   "metadata": {},
   "source": [
    "Use this cell to extend the dropdown menu with your custom inital states"
   ]
  },
  {
   "cell_type": "code",
   "execution_count": null,
   "id": "3956ac2c-4bcb-4910-9f72-7a01e981d9b7",
   "metadata": {},
   "outputs": [],
   "source": [
    "# States are normalized and converted to np.complex64 automatically\n",
    "my_initial_states = {\n",
    "    \"MyState\": np.random.randn(16) + 1j * np.random.randn(16),\n",
    "    \"MyState2\": np.random.randn(32) + 1j * np.random.randn(32),\n",
    "}"
   ]
  },
  {
   "cell_type": "markdown",
   "id": "c51609e8-d087-4d56-8e26-61c8de143b6a",
   "metadata": {
    "jp-MarkdownHeadingCollapsed": true
   },
   "source": [
    "### Demo with 4-qubit agent"
   ]
  },
  {
   "cell_type": "code",
   "execution_count": null,
   "id": "443f6f45-8c96-4cd4-8a3e-feda58c3332a",
   "metadata": {},
   "outputs": [],
   "source": [
    "start_demo_4q(my_initial_states)"
   ]
  },
  {
   "cell_type": "markdown",
   "id": "d82839ff-848a-4a84-ac68-efc3bf25c93b",
   "metadata": {
    "jp-MarkdownHeadingCollapsed": true
   },
   "source": [
    "### Demo with 5-qubit agent"
   ]
  },
  {
   "cell_type": "code",
   "execution_count": null,
   "id": "8b48dc4d-0c8b-47ee-a338-33df3d31e0f5",
   "metadata": {},
   "outputs": [],
   "source": [
    "start_demo_5q(my_initial_states)"
   ]
  },
  {
   "cell_type": "code",
   "execution_count": null,
   "id": "11843331-1aec-4fca-bd68-7f34126148ad",
   "metadata": {},
   "outputs": [],
   "source": []
  }
 ],
 "metadata": {
  "kernelspec": {
   "display_name": "Python 3 (ipykernel)",
   "language": "python",
   "name": "python3"
  },
  "language_info": {
   "codemirror_mode": {
    "name": "ipython",
    "version": 3
   },
   "file_extension": ".py",
   "mimetype": "text/x-python",
   "name": "python",
   "nbconvert_exporter": "python",
   "pygments_lexer": "ipython3",
   "version": "3.10.12"
  }
 },
 "nbformat": 4,
 "nbformat_minor": 5
}
